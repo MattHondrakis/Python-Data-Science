{
 "cells": [
  {
   "cell_type": "code",
   "execution_count": 12,
   "metadata": {},
   "outputs": [],
   "source": [
    "import numpy as np\n",
    "import pandas as pd\n",
    "import matplotlib.pyplot as plt"
   ]
  },
  {
   "cell_type": "code",
   "execution_count": 13,
   "metadata": {},
   "outputs": [
    {
     "data": {
      "text/html": [
       "<div>\n",
       "<style scoped>\n",
       "    .dataframe tbody tr th:only-of-type {\n",
       "        vertical-align: middle;\n",
       "    }\n",
       "\n",
       "    .dataframe tbody tr th {\n",
       "        vertical-align: top;\n",
       "    }\n",
       "\n",
       "    .dataframe thead th {\n",
       "        text-align: right;\n",
       "    }\n",
       "</style>\n",
       "<table border=\"1\" class=\"dataframe\">\n",
       "  <thead>\n",
       "    <tr style=\"text-align: right;\">\n",
       "      <th></th>\n",
       "      <th>artist_name</th>\n",
       "      <th>edition_number</th>\n",
       "      <th>year</th>\n",
       "      <th>artist_nationality</th>\n",
       "      <th>artist_nationality_other</th>\n",
       "      <th>artist_gender</th>\n",
       "      <th>artist_race</th>\n",
       "      <th>artist_ethnicity</th>\n",
       "      <th>book</th>\n",
       "      <th>space_ratio_per_page_total</th>\n",
       "      <th>artist_unique_id</th>\n",
       "      <th>moma_count_to_year</th>\n",
       "      <th>whitney_count_to_year</th>\n",
       "      <th>artist_race_nwi</th>\n",
       "    </tr>\n",
       "  </thead>\n",
       "  <tbody>\n",
       "    <tr>\n",
       "      <th>0</th>\n",
       "      <td>Aaron Douglas</td>\n",
       "      <td>9.0</td>\n",
       "      <td>1991</td>\n",
       "      <td>American</td>\n",
       "      <td>American</td>\n",
       "      <td>Male</td>\n",
       "      <td>Black or African American</td>\n",
       "      <td>Not Hispanic or Latino origin</td>\n",
       "      <td>Gardner</td>\n",
       "      <td>0.353366</td>\n",
       "      <td>2</td>\n",
       "      <td>0</td>\n",
       "      <td>0</td>\n",
       "      <td>Non-White</td>\n",
       "    </tr>\n",
       "    <tr>\n",
       "      <th>1</th>\n",
       "      <td>Aaron Douglas</td>\n",
       "      <td>10.0</td>\n",
       "      <td>1996</td>\n",
       "      <td>American</td>\n",
       "      <td>American</td>\n",
       "      <td>Male</td>\n",
       "      <td>Black or African American</td>\n",
       "      <td>Not Hispanic or Latino origin</td>\n",
       "      <td>Gardner</td>\n",
       "      <td>0.373947</td>\n",
       "      <td>2</td>\n",
       "      <td>0</td>\n",
       "      <td>0</td>\n",
       "      <td>Non-White</td>\n",
       "    </tr>\n",
       "    <tr>\n",
       "      <th>2</th>\n",
       "      <td>Aaron Douglas</td>\n",
       "      <td>11.0</td>\n",
       "      <td>2001</td>\n",
       "      <td>American</td>\n",
       "      <td>American</td>\n",
       "      <td>Male</td>\n",
       "      <td>Black or African American</td>\n",
       "      <td>Not Hispanic or Latino origin</td>\n",
       "      <td>Gardner</td>\n",
       "      <td>0.303259</td>\n",
       "      <td>2</td>\n",
       "      <td>0</td>\n",
       "      <td>0</td>\n",
       "      <td>Non-White</td>\n",
       "    </tr>\n",
       "    <tr>\n",
       "      <th>3</th>\n",
       "      <td>Aaron Douglas</td>\n",
       "      <td>12.0</td>\n",
       "      <td>2005</td>\n",
       "      <td>American</td>\n",
       "      <td>American</td>\n",
       "      <td>Male</td>\n",
       "      <td>Black or African American</td>\n",
       "      <td>Not Hispanic or Latino origin</td>\n",
       "      <td>Gardner</td>\n",
       "      <td>0.377049</td>\n",
       "      <td>2</td>\n",
       "      <td>0</td>\n",
       "      <td>0</td>\n",
       "      <td>Non-White</td>\n",
       "    </tr>\n",
       "    <tr>\n",
       "      <th>4</th>\n",
       "      <td>Aaron Douglas</td>\n",
       "      <td>13.0</td>\n",
       "      <td>2009</td>\n",
       "      <td>American</td>\n",
       "      <td>American</td>\n",
       "      <td>Male</td>\n",
       "      <td>Black or African American</td>\n",
       "      <td>Not Hispanic or Latino origin</td>\n",
       "      <td>Gardner</td>\n",
       "      <td>0.398410</td>\n",
       "      <td>2</td>\n",
       "      <td>0</td>\n",
       "      <td>0</td>\n",
       "      <td>Non-White</td>\n",
       "    </tr>\n",
       "  </tbody>\n",
       "</table>\n",
       "</div>"
      ],
      "text/plain": [
       "     artist_name  edition_number  year artist_nationality  \\\n",
       "0  Aaron Douglas             9.0  1991           American   \n",
       "1  Aaron Douglas            10.0  1996           American   \n",
       "2  Aaron Douglas            11.0  2001           American   \n",
       "3  Aaron Douglas            12.0  2005           American   \n",
       "4  Aaron Douglas            13.0  2009           American   \n",
       "\n",
       "  artist_nationality_other artist_gender                artist_race  \\\n",
       "0                 American          Male  Black or African American   \n",
       "1                 American          Male  Black or African American   \n",
       "2                 American          Male  Black or African American   \n",
       "3                 American          Male  Black or African American   \n",
       "4                 American          Male  Black or African American   \n",
       "\n",
       "                artist_ethnicity     book  space_ratio_per_page_total  \\\n",
       "0  Not Hispanic or Latino origin  Gardner                    0.353366   \n",
       "1  Not Hispanic or Latino origin  Gardner                    0.373947   \n",
       "2  Not Hispanic or Latino origin  Gardner                    0.303259   \n",
       "3  Not Hispanic or Latino origin  Gardner                    0.377049   \n",
       "4  Not Hispanic or Latino origin  Gardner                    0.398410   \n",
       "\n",
       "   artist_unique_id  moma_count_to_year  whitney_count_to_year artist_race_nwi  \n",
       "0                 2                   0                      0       Non-White  \n",
       "1                 2                   0                      0       Non-White  \n",
       "2                 2                   0                      0       Non-White  \n",
       "3                 2                   0                      0       Non-White  \n",
       "4                 2                   0                      0       Non-White  "
      ]
     },
     "execution_count": 13,
     "metadata": {},
     "output_type": "execute_result"
    }
   ],
   "source": [
    "artists = pd.read_csv('https://raw.githubusercontent.com/rfordatascience/tidytuesday/master/data/2023/2023-01-17/artists.csv')\n",
    "artists.head()\n"
   ]
  },
  {
   "cell_type": "code",
   "execution_count": 25,
   "metadata": {},
   "outputs": [
    {
     "data": {
      "text/plain": [
       "<AxesSubplot: xlabel='artist_race'>"
      ]
     },
     "execution_count": 25,
     "metadata": {},
     "output_type": "execute_result"
    },
    {
     "data": {
      "image/png": "[encoded data removed]",
      "text/plain": [
       "<Figure size 640x480 with 1 Axes>"
      ]
     },
     "metadata": {},
     "output_type": "display_data"
    }
   ],
   "source": [
    "artists.pivot_table(values= \"space_ratio_per_page_total\", index = \"artist_race\").sort_values(\"space_ratio_per_page_total\").plot(kind = \"bar\")"
   ]
  }
 ],
 "metadata": {
  "kernelspec": {
   "display_name": "Python 3",
   "language": "python",
   "name": "python3"
  },
  "language_info": {
   "codemirror_mode": {
    "name": "ipython",
    "version": 3
   },
   "file_extension": ".py",
   "mimetype": "text/x-python",
   "name": "python",
   "nbconvert_exporter": "python",
   "pygments_lexer": "ipython3",
   "version": "3.9.6 (tags/v3.9.6:db3ff76, Jun 28 2021, 15:26:21) [MSC v.1929 64 bit (AMD64)]"
  },
  "orig_nbformat": 4,
  "vscode": {
   "interpreter": {
    "hash": "187b6b69bf2073b190e74a02b75dbc9c884ee8db2ce6f8b67d2e4ac496e55746"
   }
  }
 },
 "nbformat": 4,
 "nbformat_minor": 2
}
