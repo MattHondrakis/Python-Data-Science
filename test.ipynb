{
  "cells": [
    {
      "cell_type": "raw",
      "metadata": {},
      "source": [
        "---\n",
        "title: Quarto Demo\n",
        "format:\n",
        "  github_document:\n",
        "    code-fold: true\n",
        "---"
      ],
      "id": "75dfa0fb"
    },
    {
      "cell_type": "code",
      "metadata": {},
      "source": [
        "import numpy as np\n",
        "import pandas as pd\n",
        "import matplotlib.pyplot as plt\n",
        "import seaborn as sns"
      ],
      "id": "08a9ce1a",
      "execution_count": null,
      "outputs": []
    },
    {
      "cell_type": "code",
      "metadata": {},
      "source": [
        "artists = pd.read_csv('https://raw.githubusercontent.com/rfordatascience/tidytuesday/master/data/2023/2023-01-17/artists.csv')"
      ],
      "id": "f315c8bc",
      "execution_count": null,
      "outputs": []
    },
    {
      "cell_type": "code",
      "metadata": {},
      "source": [
        "artists.pivot_table(values= \"space_ratio_per_page_total\", index = \"artist_race\").sort_values(\"space_ratio_per_page_total\").plot(kind = \"bar\", legend=None)\n",
        "plt.title(\"Average Space Occupied on a Page by Race\")\n",
        "plt.xlabel(\"\")\n",
        "plt.xticks(rotation = 60, ha = \"right\")"
      ],
      "id": "10e9f937",
      "execution_count": null,
      "outputs": []
    }
  ],
  "metadata": {
    "kernelspec": {
      "name": "python3",
      "language": "python",
      "display_name": "Python 3 (ipykernel)"
    }
  },
  "nbformat": 4,
  "nbformat_minor": 5
}